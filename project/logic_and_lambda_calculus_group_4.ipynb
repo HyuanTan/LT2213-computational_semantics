{
  "cells": [
    {
      "cell_type": "markdown",
      "metadata": {
        "id": "Np2Pt8UqMAMP"
      },
      "source": [
        "# A1: Logic and lambda calculus"
      ]
    },
    {
      "cell_type": "markdown",
      "metadata": {
        "id": "DXcnUfujMAMX"
      },
      "source": [
        "Simon Dobnik and Robin Cooper\n",
        "\n",
        "The lab is an exploration and learning exercise to be done in a group and also in discussion with the teachers and other students.\n",
        "\n",
        "Before starting, please read the instructions on how to work in groups on Canvas.\n",
        "\n",
        "Write all your answers and the code in the appropriate boxes below.\n",
        "\n",
        "*Important*: We recommend that you create a virtual environment (either with virtualenv or conda), install Jupyter Lab in it and all dependencies used in the assignment.\n",
        "To run Jupyter Lab later within your environment, run the following command:\n",
        "\n",
        "```python -m ipykernel install --user --name=my-virtualenv-name```,\n",
        "\n",
        "where you replace `my-virtualenv-name` with the name of your created environment.\n",
        "Once in Jupyter, choose the kernel with the name of your environment. You can do it by either (i) using the drop-down menu in the top right corner or (ii) going to the top menu -> Kernel -> Change Kernel."
      ]
    },
    {
      "cell_type": "markdown",
      "metadata": {
        "id": "fJf32OX4MAMa"
      },
      "source": [
        "## Translating English to logic and evaluating logic in a model"
      ]
    },
    {
      "cell_type": "code",
      "execution_count": 1,
      "metadata": {
        "id": "VG9UU6aHMAMb"
      },
      "outputs": [],
      "source": [
        "# This task needs NLTK and Jupyter Lab (IPython package).\n",
        "import nltk\n",
        "from utils import display_latex, display_translation, display_tree, display, Markdown\n",
        "read_expr = nltk.sem.Expression.fromstring"
      ]
    },
    {
      "cell_type": "markdown",
      "metadata": {
        "id": "QRH8PimjMAMf"
      },
      "source": [
        "### 1. Propositional logic\n",
        "Translate the following sentences into **propositional logic** and verify that they parse with Expression.fromstring() (`read_expr` variable in the cell above). Provide a key which shows how the propositional variables in your translation correspond to expressions of English. Briefly discuss any difficulties you encounter. (By difficulties we mean cases where the semantics of English expressions cannot be expressed to the same degree by the semantics of your logic representations, i.e. they do not mean the same). **[5 + 1 marks]**"
      ]
    },
    {
      "cell_type": "code",
      "execution_count": 4,
      "metadata": {
        "colab": {
          "base_uri": "https://localhost:8080/",
          "height": 187
        },
        "id": "UYeqMd9XMAMg",
        "outputId": "0c4fb149-b404-4c0a-c09a-d89b421884a9"
      },
      "outputs": [
        {
          "output_type": "display_data",
          "data": {
            "text/plain": [
              "<IPython.core.display.Markdown object>"
            ],
            "text/markdown": "\"If Alex plays the piano, she is smart.\": $(A\\ \\rightarrow\\ B)$"
          },
          "metadata": {}
        },
        {
          "output_type": "display_data",
          "data": {
            "text/plain": [
              "<IPython.core.display.Markdown object>"
            ],
            "text/markdown": "\"Alex is both smart and musical.\": $(B\\ \\land\\ C)$"
          },
          "metadata": {}
        },
        {
          "output_type": "display_data",
          "data": {
            "text/plain": [
              "<IPython.core.display.Markdown object>"
            ],
            "text/markdown": "\"If Alex is not smart, Lydia is not happy.\": $(-B\\ \\rightarrow\\ -D)$"
          },
          "metadata": {}
        },
        {
          "output_type": "display_data",
          "data": {
            "text/plain": [
              "<IPython.core.display.Markdown object>"
            ],
            "text/markdown": "\"If Alex or George plays the piano, they are musical.\": $((A\\ \\lor\\ E)\\ \\rightarrow\\ (C\\ \\land\\ F))$"
          },
          "metadata": {}
        },
        {
          "output_type": "display_data",
          "data": {
            "text/plain": [
              "<IPython.core.display.Markdown object>"
            ],
            "text/markdown": "\"If Alex or George plays the piano, then they are musical.\": $((A\\ \\rightarrow\\ C)\\ \\lor\\ (E\\ \\rightarrow\\ F))$"
          },
          "metadata": {}
        },
        {
          "output_type": "display_data",
          "data": {
            "text/plain": [
              "<IPython.core.display.Markdown object>"
            ],
            "text/markdown": "\"George plays the piano.\": $E$"
          },
          "metadata": {}
        }
      ],
      "source": [
        "# Define keys\n",
        "\n",
        "key = {\n",
        "    \"A\": \"Alex plays the piano.\",\n",
        "    \"B\": \"Alex is smart.\",\n",
        "    \"C\": \"Alex is musical.\",\n",
        "    \"D\": \"Lydia is happy.\",\n",
        "    \"E\": \"George plays the piano.\",\n",
        "    \"F\": \"George is musical.\",\n",
        "}\n",
        "\n",
        "propositions = {\n",
        "    \"If Alex plays the piano, she is smart.\": read_expr('A -> B'),\n",
        "    \"Alex is both smart and musical.\": read_expr('B & C'),\n",
        "    \"If Alex is not smart, Lydia is not happy.\": read_expr('-B -> -D'),\n",
        "    # First interpretation\n",
        "    # If either one plays the piano, they are both musical\n",
        "    \"If Alex or George plays the piano, they are musical.\": read_expr('(A | E) ->(C & F)'),\n",
        "    #Second interpretation\n",
        "    # If either one plays the piano, then the one that plays it's musical\n",
        "    \"If Alex or George plays the piano, then they are musical.\": read_expr('(A -> C ) | (E->F)'),\n",
        "    \"George plays the piano.\": read_expr('E'),\n",
        "}\n",
        "\n",
        "\n",
        "for text, semrep in propositions.items():\n",
        "    display_translation(text, semrep)"
      ]
    },
    {
      "cell_type": "markdown",
      "metadata": {
        "id": "7pzfgWcpMAMh"
      },
      "source": [
        "## Difficulties encountered:\n",
        "\n",
        "### Sentence 1\n",
        ">*If Alex plays the piano, she is smart.*\n",
        "\n",
        "Since propositional logic treats sentences as atomic symbols, it cannot represente coreference, the link between *Alex* and *she*. Hence we manually map *she* to *Alex* using keys.\n",
        "\n",
        "### Sentence 2\n",
        ">*Alex is both smart and musical.*\n",
        "\n",
        "Translated as conjuntion (B & C), however the emphasis on \"both\" is lost.\n",
        "\n",
        "### Sentence 4\n",
        ">*If Alex or George plays the piano, they are musical.*\n",
        "\n",
        "Two readings are possible (ignoring the unlikely reading from a context where \"Alex or George\" is a music band). It's ambiguity arises due to the fact that there is no atomic reference to either Alex or George, no quantification over them, and no distinction between singular and plural.\n",
        "\n",
        "**First interpretation**\n",
        "\n",
        ">*If Alex or George plays the piano, they are musical. (if either one does, they both are musical).*\n",
        "\n",
        "This first translation preserves the structure of the original sentence, and refers to *they* as both Alex and George as a unit. However, this interpretation it's restrictive, demanding that both *Alex* and *George* be musical even if only one of them plays, which might not represent the more natual distributive reading.\n",
        "\n",
        "**Second interpretation**\n",
        ">*If Alex or George plays the piano, they are musical. (if either one does, then that one is musical).*\n",
        "\n",
        "This interpretation handles distributivity better than the first interpretation, however it does not preserves the structure of the original sentence.\n",
        "\n",
        "\n"
      ]
    },
    {
      "cell_type": "markdown",
      "metadata": {
        "id": "Mgx8d3zTMAMj"
      },
      "source": [
        "### 2. Valuation of Propositional logic\n",
        "\n",
        "Imagine that we observe a world where\n",
        "- (i) Alex does not play the piano,\n",
        "- (ii) Alex and Lydia are smart and musical,\n",
        "- (iii) George is not musical,\n",
        "- (iv) Lydia is happy,\n",
        "- (v) George plays the piano.\n",
        "\n",
        "Translate this informal description of the world into a model by appropriately defining an evaluation function and evaluate the formulae from Question 1 in this model. Briefly comment the answers you get. **[5 + 1 marks]**."
      ]
    },
    {
      "cell_type": "code",
      "execution_count": 5,
      "metadata": {
        "colab": {
          "base_uri": "https://localhost:8080/",
          "height": 547
        },
        "id": "tzs1oP0bMAMl",
        "outputId": "3e5c5d11-3640-430c-8b1f-46410f389b2d"
      },
      "outputs": [
        {
          "output_type": "stream",
          "name": "stdout",
          "text": [
            "Exercise 2: Evaluation Results\n",
            "If Alex plays the piano, she is smart.\n",
            "→ True\n",
            "\n"
          ]
        },
        {
          "output_type": "display_data",
          "data": {
            "text/plain": [
              "<IPython.core.display.Markdown object>"
            ],
            "text/markdown": "$(A\\ \\rightarrow\\ B)$"
          },
          "metadata": {}
        },
        {
          "output_type": "stream",
          "name": "stdout",
          "text": [
            "Alex is both smart and musical.\n",
            "→ True\n",
            "\n"
          ]
        },
        {
          "output_type": "display_data",
          "data": {
            "text/plain": [
              "<IPython.core.display.Markdown object>"
            ],
            "text/markdown": "$(B\\ \\land\\ C)$"
          },
          "metadata": {}
        },
        {
          "output_type": "stream",
          "name": "stdout",
          "text": [
            "If Alex is not smart, Lydia is not happy.\n",
            "→ True\n",
            "\n"
          ]
        },
        {
          "output_type": "display_data",
          "data": {
            "text/plain": [
              "<IPython.core.display.Markdown object>"
            ],
            "text/markdown": "$(-B\\ \\rightarrow\\ -D)$"
          },
          "metadata": {}
        },
        {
          "output_type": "stream",
          "name": "stdout",
          "text": [
            "If Alex or George plays the piano, they are musical.\n",
            "→ False\n",
            "\n"
          ]
        },
        {
          "output_type": "display_data",
          "data": {
            "text/plain": [
              "<IPython.core.display.Markdown object>"
            ],
            "text/markdown": "$((A\\ \\lor\\ E)\\ \\rightarrow\\ (C\\ \\land\\ F))$"
          },
          "metadata": {}
        },
        {
          "output_type": "stream",
          "name": "stdout",
          "text": [
            "If Alex or George plays the piano, then they are musical.\n",
            "→ True\n",
            "\n"
          ]
        },
        {
          "output_type": "display_data",
          "data": {
            "text/plain": [
              "<IPython.core.display.Markdown object>"
            ],
            "text/markdown": "$((A\\ \\rightarrow\\ C)\\ \\lor\\ (E\\ \\rightarrow\\ F))$"
          },
          "metadata": {}
        },
        {
          "output_type": "stream",
          "name": "stdout",
          "text": [
            "George plays the piano.\n",
            "→ True\n",
            "\n"
          ]
        },
        {
          "output_type": "display_data",
          "data": {
            "text/plain": [
              "<IPython.core.display.Markdown object>"
            ],
            "text/markdown": "$E$"
          },
          "metadata": {}
        }
      ],
      "source": [
        "\n",
        "\n",
        "#Mapping of the informal descriptions\n",
        "key2 = {\n",
        "    \"A\": \"Alex plays the piano\",\n",
        "    \"B\": \"Alex is smart\",\n",
        "    \"C\": \"Alex is musical\",\n",
        "    \"D\": \"Lydia is smart\",\n",
        "    \"E\": \"Lydia is musical\",\n",
        "    \"F\": \"George is musical\",\n",
        "    \"G\": \"George plays the piano\",\n",
        "    \"H\": \"Lydia is happy\"\n",
        "}\n",
        "\n",
        "\n",
        "val = nltk.Valuation([\n",
        "    (\"A\", False),\n",
        "    (\"B\", True),\n",
        "    (\"C\", True),\n",
        "    (\"D\", True),\n",
        "    (\"E\", True),\n",
        "    (\"F\", False),\n",
        "    (\"G\", True),\n",
        "    (\"H\", True),\n",
        "])\n",
        "\n",
        "dom = set()\n",
        "g = nltk.Assignment(dom)\n",
        "m = nltk.Model(dom, val)\n",
        "\n",
        "\n",
        "print(\"Exercise 2: Evaluation Results\")\n",
        "for text, semrep in propositions.items():\n",
        "    result = m.evaluate(str(semrep), g)\n",
        "    print(f\"{text}\\n→ {result}\\n\")\n",
        "    display_latex(str(semrep))\n"
      ]
    },
    {
      "cell_type": "markdown",
      "metadata": {
        "id": "PNK9ToHJMAMm"
      },
      "source": [
        "##Comments:\n",
        "\n",
        "### Sentence 1\n",
        ">*If Alex plays the piano, she is smart.*\n",
        "\n",
        "This sentence exemplifies the idea of **vacuous truth**. Due to how implication works in logic, and the fact that an implication is *False* only when the first part is *True* and the second is *False*, this sentence ends up evaluating to *True*, even though the first part is *False*. However, in real-world situations, if Alex playing the piano and her being smart are directly dependent, the implication might be considered *False* if she does not play.\n",
        "\n",
        "### Sentence 4\n",
        ">*Alex or George plays the piano, they are musical.*\n",
        "\n",
        "For this sentence, we can see that the idea of singular (interpretation 2) vs. plural (interpretation 1) turned out to be semantically relevant, as the second interpretation evaluates to *True*, but the first to *False*. As previously noted, although the first interpretation conserves the structure of the sentence better, it is more restrictive, as it needs both conditions in the consequent to be true.\n"
      ]
    },
    {
      "cell_type": "markdown",
      "metadata": {
        "id": "Alo1PonDMAMn"
      },
      "source": [
        "### 3. Predicate logic *without quantifiers*\n",
        "\n",
        "Translate the following sentences into predicate-argument formulae of First Order Logic and verify that they parse with `Expression.fromstring()`. Briefly discuss any difficulties you encounter. **[4 + 1 marks]**"
      ]
    },
    {
      "cell_type": "code",
      "execution_count": 6,
      "metadata": {
        "colab": {
          "base_uri": "https://localhost:8080/",
          "height": 160
        },
        "id": "4CdkjCU8MAMo",
        "outputId": "af11b953-fc34-4447-8d33-c145fa10b7cf"
      },
      "outputs": [
        {
          "output_type": "display_data",
          "data": {
            "text/plain": [
              "<IPython.core.display.Markdown object>"
            ],
            "text/markdown": "\"Lydia likes George but Lydia doesn't like Alex\": $(like(lydia,george)\\ \\land\\ -like(lydia,alex))$"
          },
          "metadata": {}
        },
        {
          "output_type": "display_data",
          "data": {
            "text/plain": [
              "<IPython.core.display.Markdown object>"
            ],
            "text/markdown": "\"Lydia likes herself and so does George (George also likes himself)\": $(like(lydia,lydia)\\ \\land\\ like(george,george))$"
          },
          "metadata": {}
        },
        {
          "output_type": "display_data",
          "data": {
            "text/plain": [
              "<IPython.core.display.Markdown object>"
            ],
            "text/markdown": "\"Lydia likes herself and so does George\": $(like(lydia,lydia)\\ \\land\\ like(george,lydia))$"
          },
          "metadata": {}
        },
        {
          "output_type": "display_data",
          "data": {
            "text/plain": [
              "<IPython.core.display.Markdown object>"
            ],
            "text/markdown": "\"Charlie is an English pianist who plays a sonata\": $(english(charlie)\\ \\land\\ pianist(charlie)\\ \\land\\ play(charlie,sonata))$"
          },
          "metadata": {}
        },
        {
          "output_type": "display_data",
          "data": {
            "text/plain": [
              "<IPython.core.display.Markdown object>"
            ],
            "text/markdown": "\"Lydia and George admire each other\": $(admire(lydia,george)\\ \\land\\ admire(george,lydia))$"
          },
          "metadata": {}
        }
      ],
      "source": [
        "sentences1 = {\n",
        "    \"Lydia likes George but Lydia doesn't like Alex\":\n",
        "    read_expr(r'like(lydia, george) & -like(lydia, alex)'),\n",
        "\n",
        "    \"Lydia likes herself and so does George (George also likes himself)\":\n",
        "    read_expr(r'like(lydia, lydia) & like(george, george)'),\n",
        "\n",
        "    \"Lydia likes herself and so does George\":\n",
        "    read_expr(r'like(lydia, lydia) & like(george, lydia)'),\n",
        "\n",
        "\n",
        "    \"Charlie is an English pianist who plays a sonata\":\n",
        "    read_expr(r'english(charlie) & pianist (charlie) & play(charlie, sonata)'),\n",
        "\n",
        "    \"Lydia and George admire each other\":\n",
        "    read_expr(r'admire(lydia, george) & admire (george, lydia)'),\n",
        "}\n",
        "\n",
        "for text, semrep in sentences1.items():\n",
        "    display_translation(text, semrep)\n"
      ]
    },
    {
      "cell_type": "markdown",
      "metadata": {
        "id": "-8uAG-W2MAMp"
      },
      "source": [
        "## Difficulties encountered:\n",
        "\n",
        "### Sentence 1\n",
        ">*Lydia likes George but Lydia doesn't like Alex.*\n",
        "\n",
        "FOL cannot directly represent contrastive conjunction. For this sentence, we had to use the logical conjunction *and*. Though this change does not seem to bring much difference in meaning, we do lose the implied contrast between the two clauses.\n",
        "\n",
        "\n",
        "### Sentence 2\n",
        ">*Lydia likes herself and so does George.*\n",
        "\n",
        "The phrase *so does George* is ambigous as it could mean both *George likes Lydia as well* and *George likes himself*.\n",
        "\n",
        "**First interpretation**\n",
        "> *Lydia likes herself and so does George (George also likes himself).*\n",
        "\n",
        "**Second interpretation**\n",
        ">*Lydia likes herself and so does George (George also likes Lydia).*\n",
        "\n",
        "\n",
        "### Sentence 3\n",
        ">*Charlie is an English pianist who plays a sonata.*\n",
        "\n",
        "Since we were asked to represent the sentences without the use of quantifiers, the NP *a sonata* is represented as a constant. As a result, we refer to a specific, named sonata, which the sentence does not actually imply. The English sentence implies existence, but not uniqueness.\n",
        "\n",
        "\n",
        "\n"
      ]
    },
    {
      "cell_type": "markdown",
      "metadata": {
        "id": "epwTS59ZMAMp"
      },
      "source": [
        "### 4. First order logic with quantifiers\n",
        "\n",
        "Translate the following sentences into quantified formulas of First Order Logic and verify that they parse with `Expression.fromstring()`. Briefly discuss any difficulties you encounter. **[4 + 1 marks]**"
      ]
    },
    {
      "cell_type": "code",
      "execution_count": 16,
      "metadata": {
        "id": "ySmuaIE-MAMq",
        "colab": {
          "base_uri": "https://localhost:8080/",
          "height": 292
        },
        "outputId": "71be1afd-a94a-4a52-9323-db274bcdea10"
      },
      "outputs": [
        {
          "output_type": "display_data",
          "data": {
            "text/plain": [
              "<IPython.core.display.Markdown object>"
            ],
            "text/markdown": "\"Charlie knows a woman who likes George\": $\\exists\\ x.(women(x)\\ \\land\\ know(charlie,x)\\ \\land\\ like(x,george))$"
          },
          "metadata": {}
        },
        {
          "output_type": "display_data",
          "data": {
            "text/plain": [
              "<IPython.core.display.Markdown object>"
            ],
            "text/markdown": "\"George admires everybody and Lydia admires nobody\": $\\forall\\ x.(admire(george,x)\\ \\land\\ -admire(lydia,x))$"
          },
          "metadata": {}
        },
        {
          "output_type": "display_data",
          "data": {
            "text/plain": [
              "<IPython.core.display.Markdown object>"
            ],
            "text/markdown": "\"Nobody admires everybody (domain neutral)\": $-\\exists\\ x.\\forall\\ y.admire(x,y)$"
          },
          "metadata": {}
        },
        {
          "output_type": "display_data",
          "data": {
            "text/plain": [
              "<IPython.core.display.Markdown object>"
            ],
            "text/markdown": "\"Nobody admires everybody\": $-\\exists\\ x.\\forall\\ y.((woman(x)\\ \\lor\\ man(x))\\ \\rightarrow\\ admire(x,y))$"
          },
          "metadata": {}
        },
        {
          "output_type": "display_data",
          "data": {
            "text/plain": [
              "<IPython.core.display.Markdown object>"
            ],
            "text/markdown": "\"Exactly one musician plays everything Alex wrote (simple)\": $\\exists\\ x.\\forall\\ y.((musician(x)\\ \\land\\ write(alex,y))\\ \\rightarrow\\ play(x,y))$"
          },
          "metadata": {}
        },
        {
          "output_type": "display_data",
          "data": {
            "text/plain": [
              "<IPython.core.display.Markdown object>"
            ],
            "text/markdown": "\"Exactly one musician plays everything Alex wrote (There is a musician that plays everything Alex wrote, and for all other musicians there is nothing such that Alex wrote and they play it.)\": $\\exists\\ x.((musician(x)\\ \\land\\ \\forall\\ y.(write(alex,y)\\ \\rightarrow\\ play(x,y)))\\ \\rightarrow\\ \\forall\\ z.((musician(z)\\ \\land\\ -(z\\ =\\ x))\\ \\rightarrow\\ -\\exists\\ w.(write(alex,w)\\ \\land\\ play(z,w))))$"
          },
          "metadata": {}
        },
        {
          "output_type": "display_data",
          "data": {
            "text/plain": [
              "<IPython.core.display.Markdown object>"
            ],
            "text/markdown": "\"Exactly one musician plays everything Alex wrote (There is a musician that plays everything Alex wrote, such that all other musicians that play everything Alex wrote are that musician)\": $\\exists\\ x.\\forall\\ y.(((musician(x)\\ \\land\\ write(alex,y))\\ \\rightarrow\\ play(x,y))\\ \\rightarrow\\ \\forall\\ z.((musician(z)\\ \\land\\ write(alex,y)\\ \\land\\ play(z,y))\\ \\rightarrow\\ (z\\ =\\ x)))$"
          },
          "metadata": {}
        }
      ],
      "source": [
        "sentences2 = {\n",
        "    \"Charlie knows a woman who likes George\":\n",
        "    read_expr('exists x.(women(x) & know(charlie,x) & like(x, george))'),\n",
        "\n",
        "    \"George admires everybody and Lydia admires nobody\":\n",
        "    read_expr('all x.(admire(george, x) & -admire(lydia, x) )'),\n",
        "\n",
        "    \"Nobody admires everybody (domain neutral)\":\n",
        "    read_expr('-exists x. all y. admire(x, y)'),\n",
        "\n",
        "    \"Nobody admires everybody\":\n",
        "    read_expr('not exist x.(all y.((woman(x) or man(x)) -> admire(x, y)))'),\n",
        "\n",
        "    \"Exactly one musician plays everything Alex wrote (simple)\":\n",
        "    read_expr('exists x.(all y. ((musician(x) and write(alex, y)) -> play(x, y)))'),\n",
        "\n",
        "    \"Exactly one musician plays everything Alex wrote (There is a musician that plays everything Alex wrote, and for all other musicians there is nothing such that Alex wrote and they play it.)\":\n",
        "    read_expr('exists x.(musician(x) & all y. (write(alex, y) -> play(x, y)) -> (all z. (musician(z) & -(z=x) -> -exists w.(write(alex, w) & play(z, w)))))'),\n",
        "\n",
        "    \"Exactly one musician plays everything Alex wrote (There is a musician that plays everything Alex wrote, such that all other musicians that play everything Alex wrote are that musician)\":\n",
        "    read_expr('exists x.(all y.((((musician(x) and write(alex, y)) -> play(x, y))) -> (all z.((musician(z) and write(alex, y) and play(z, y) -> z=x)))))'),\n",
        "}\n",
        "\n",
        "for text, semrep in sentences2.items():\n",
        "    display_translation(text, semrep)"
      ]
    },
    {
      "cell_type": "markdown",
      "metadata": {
        "id": "1o4CaeoXMAMr"
      },
      "source": [
        "## Difficulties encountered:\n",
        "\n",
        "### Sentence 3\n",
        ">*Nobody admires everybody.*\n",
        "\n",
        "The translation of this sentence into logics depends on the domain of discourse, considering that we do not have yet a domain of discouse, we could have two different interpretations:\n",
        "\n",
        "**First interpretation**\n",
        "In this interpretation *nobody* and *everybody* can represent anything, from humans to robots.\n",
        "\n",
        "**Second interpretation**\n",
        "In this interpretation *nobody* and *everybody* refers only to human, women and men,and we therefore apply predicates that specify whether an entity is a woman or a man\n",
        "\n",
        "### Sentence 4\n",
        ">*Exactly one musician plays everything Alex wrote.*\n",
        "\n",
        "The challenge of encoding the last sentence constitutes choosing a way to express \"exactly one\", either negatively, that no other musician fulfill the criterion of playing everything Alex wrote, or positively, that any other musicians that fulfill the conditions are the same entitiy.\n",
        "\n",
        "\n"
      ]
    },
    {
      "cell_type": "code",
      "execution_count": 17,
      "metadata": {
        "id": "Khi7rkdSMAMs",
        "colab": {
          "base_uri": "https://localhost:8080/",
          "height": 1000
        },
        "outputId": "9dd8e016-637a-411f-e2d8-c3d895b31c37"
      },
      "outputs": [
        {
          "output_type": "stream",
          "name": "stdout",
          "text": [
            "Lydia likes George but Lydia doesn't like Alex\n",
            "False\n"
          ]
        },
        {
          "output_type": "display_data",
          "data": {
            "text/plain": [
              "<IPython.core.display.Markdown object>"
            ],
            "text/markdown": "$(like(lydia,george)\\ \\land\\ -like(lydia,alex))$"
          },
          "metadata": {}
        },
        {
          "output_type": "display_data",
          "data": {
            "text/plain": [
              "<IPython.core.display.Markdown object>"
            ],
            "text/markdown": "----"
          },
          "metadata": {}
        },
        {
          "output_type": "stream",
          "name": "stdout",
          "text": [
            "Lydia likes herself and so does George (George also likes himself)\n",
            "True\n"
          ]
        },
        {
          "output_type": "display_data",
          "data": {
            "text/plain": [
              "<IPython.core.display.Markdown object>"
            ],
            "text/markdown": "$(like(lydia,lydia)\\ \\land\\ like(george,george))$"
          },
          "metadata": {}
        },
        {
          "output_type": "display_data",
          "data": {
            "text/plain": [
              "<IPython.core.display.Markdown object>"
            ],
            "text/markdown": "----"
          },
          "metadata": {}
        },
        {
          "output_type": "stream",
          "name": "stdout",
          "text": [
            "Lydia likes herself and so does George\n",
            "True\n"
          ]
        },
        {
          "output_type": "display_data",
          "data": {
            "text/plain": [
              "<IPython.core.display.Markdown object>"
            ],
            "text/markdown": "$(like(lydia,lydia)\\ \\land\\ like(george,lydia))$"
          },
          "metadata": {}
        },
        {
          "output_type": "display_data",
          "data": {
            "text/plain": [
              "<IPython.core.display.Markdown object>"
            ],
            "text/markdown": "----"
          },
          "metadata": {}
        },
        {
          "output_type": "stream",
          "name": "stdout",
          "text": [
            "Charlie is an English pianist who plays a sonata\n",
            "True\n"
          ]
        },
        {
          "output_type": "display_data",
          "data": {
            "text/plain": [
              "<IPython.core.display.Markdown object>"
            ],
            "text/markdown": "$(english(charlie)\\ \\land\\ pianist(charlie)\\ \\land\\ play(charlie,sonata))$"
          },
          "metadata": {}
        },
        {
          "output_type": "display_data",
          "data": {
            "text/plain": [
              "<IPython.core.display.Markdown object>"
            ],
            "text/markdown": "----"
          },
          "metadata": {}
        },
        {
          "output_type": "stream",
          "name": "stdout",
          "text": [
            "Lydia and George admire each other\n",
            "False\n"
          ]
        },
        {
          "output_type": "display_data",
          "data": {
            "text/plain": [
              "<IPython.core.display.Markdown object>"
            ],
            "text/markdown": "$(admire(lydia,george)\\ \\land\\ admire(george,lydia))$"
          },
          "metadata": {}
        },
        {
          "output_type": "display_data",
          "data": {
            "text/plain": [
              "<IPython.core.display.Markdown object>"
            ],
            "text/markdown": "----"
          },
          "metadata": {}
        },
        {
          "output_type": "stream",
          "name": "stdout",
          "text": [
            "\n",
            "Sentences from question 4\n",
            "\n",
            "Charlie knows a woman who likes George\n",
            "Undefined\n"
          ]
        },
        {
          "output_type": "display_data",
          "data": {
            "text/plain": [
              "<IPython.core.display.Markdown object>"
            ],
            "text/markdown": "$\\exists\\ x.(women(x)\\ \\land\\ know(charlie,x)\\ \\land\\ like(x,george))$"
          },
          "metadata": {}
        },
        {
          "output_type": "display_data",
          "data": {
            "text/plain": [
              "<IPython.core.display.Markdown object>"
            ],
            "text/markdown": "----"
          },
          "metadata": {}
        },
        {
          "output_type": "stream",
          "name": "stdout",
          "text": [
            "George admires everybody and Lydia admires nobody\n",
            "False\n"
          ]
        },
        {
          "output_type": "display_data",
          "data": {
            "text/plain": [
              "<IPython.core.display.Markdown object>"
            ],
            "text/markdown": "$\\forall\\ x.(admire(george,x)\\ \\land\\ -admire(lydia,x))$"
          },
          "metadata": {}
        },
        {
          "output_type": "display_data",
          "data": {
            "text/plain": [
              "<IPython.core.display.Markdown object>"
            ],
            "text/markdown": "----"
          },
          "metadata": {}
        },
        {
          "output_type": "stream",
          "name": "stdout",
          "text": [
            "Nobody admires everybody (domain neutral)\n",
            "True\n"
          ]
        },
        {
          "output_type": "display_data",
          "data": {
            "text/plain": [
              "<IPython.core.display.Markdown object>"
            ],
            "text/markdown": "$-\\exists\\ x.\\forall\\ y.admire(x,y)$"
          },
          "metadata": {}
        },
        {
          "output_type": "display_data",
          "data": {
            "text/plain": [
              "<IPython.core.display.Markdown object>"
            ],
            "text/markdown": "----"
          },
          "metadata": {}
        },
        {
          "output_type": "stream",
          "name": "stdout",
          "text": [
            "Nobody admires everybody\n",
            "False\n"
          ]
        },
        {
          "output_type": "display_data",
          "data": {
            "text/plain": [
              "<IPython.core.display.Markdown object>"
            ],
            "text/markdown": "$-\\exists\\ x.\\forall\\ y.((woman(x)\\ \\lor\\ man(x))\\ \\rightarrow\\ admire(x,y))$"
          },
          "metadata": {}
        },
        {
          "output_type": "display_data",
          "data": {
            "text/plain": [
              "<IPython.core.display.Markdown object>"
            ],
            "text/markdown": "----"
          },
          "metadata": {}
        },
        {
          "output_type": "stream",
          "name": "stdout",
          "text": [
            "Exactly one musician plays everything Alex wrote (simple)\n",
            "True\n"
          ]
        },
        {
          "output_type": "display_data",
          "data": {
            "text/plain": [
              "<IPython.core.display.Markdown object>"
            ],
            "text/markdown": "$\\exists\\ x.\\forall\\ y.((musician(x)\\ \\land\\ write(alex,y))\\ \\rightarrow\\ play(x,y))$"
          },
          "metadata": {}
        },
        {
          "output_type": "display_data",
          "data": {
            "text/plain": [
              "<IPython.core.display.Markdown object>"
            ],
            "text/markdown": "----"
          },
          "metadata": {}
        },
        {
          "output_type": "stream",
          "name": "stdout",
          "text": [
            "Exactly one musician plays everything Alex wrote (There is a musician that plays everything Alex wrote, and for all other musicians there is nothing such that Alex wrote and they play it.)\n",
            "True\n"
          ]
        },
        {
          "output_type": "display_data",
          "data": {
            "text/plain": [
              "<IPython.core.display.Markdown object>"
            ],
            "text/markdown": "$\\exists\\ x.((musician(x)\\ \\land\\ \\forall\\ y.(write(alex,y)\\ \\rightarrow\\ play(x,y)))\\ \\rightarrow\\ \\forall\\ z.((musician(z)\\ \\land\\ -(z\\ =\\ x))\\ \\rightarrow\\ -\\exists\\ w.(write(alex,w)\\ \\land\\ play(z,w))))$"
          },
          "metadata": {}
        },
        {
          "output_type": "display_data",
          "data": {
            "text/plain": [
              "<IPython.core.display.Markdown object>"
            ],
            "text/markdown": "----"
          },
          "metadata": {}
        },
        {
          "output_type": "stream",
          "name": "stdout",
          "text": [
            "Exactly one musician plays everything Alex wrote (There is a musician that plays everything Alex wrote, such that all other musicians that play everything Alex wrote are that musician)\n",
            "True\n"
          ]
        },
        {
          "output_type": "display_data",
          "data": {
            "text/plain": [
              "<IPython.core.display.Markdown object>"
            ],
            "text/markdown": "$\\exists\\ x.\\forall\\ y.(((musician(x)\\ \\land\\ write(alex,y))\\ \\rightarrow\\ play(x,y))\\ \\rightarrow\\ \\forall\\ z.((musician(z)\\ \\land\\ write(alex,y)\\ \\land\\ play(z,y))\\ \\rightarrow\\ (z\\ =\\ x)))$"
          },
          "metadata": {}
        },
        {
          "output_type": "display_data",
          "data": {
            "text/plain": [
              "<IPython.core.display.Markdown object>"
            ],
            "text/markdown": "----"
          },
          "metadata": {}
        }
      ],
      "source": [
        "entities = set(['l','g','a','c','b','s','u','e','p','w'])\n",
        "\n",
        "assign = \"\"\"\n",
        "  lydia => l\n",
        "  george => g\n",
        "  alex => a\n",
        "  charlie => c\n",
        "  bertie => b\n",
        "  sonata => s\n",
        "  etude => e\n",
        "  prelude => p\n",
        "  waltz => w\n",
        "  scherzo => u\n",
        "\n",
        "\n",
        "  like=>{(l,l), (l,g), (l,a), (l,c), (g,l), (g,b), (g,g), (a,a), (c,l), (c,g), (c,a), (c,c), (c,b), (b,a)}\n",
        "  english=>{l, g, a, c, b}\n",
        "  pianist=>{c, b}\n",
        "  play=>{(c,s), (c,e), (c,w), (b,w), (b,u), (l,e), (l,p), (l,w)}\n",
        "  admire=>{(l,l), (l,c), (l,b), (g,l), (g,g), (g,a), (g,c), (g,b), (a,l), (a,a), (a,b), (c,g), (c,b), (b,l), (b,g), (b,a), (b,c), (b,b)}\n",
        "  know=>{(l,l), (l,g), (l,a), (l,c), (l,b), (g,l), (g,g), (g,b), (a,l), (a,a), (a,b), (c,g), (c,c), (c,b), (b,l), (b,g), (b,a), (b,c), (b,b)}\n",
        "  woman=>{l, a, c}\n",
        "  man=>{g, b}\n",
        "  write=>{(a,s), (a,e), (a,w)}\n",
        "  musician=>{l, a, c, b}\n",
        "\n",
        "\"\"\"\n",
        "\n",
        "val2 = nltk.Valuation.fromstring(assign)\n",
        "\n",
        "g2 = nltk.Assignment(entities)\n",
        "m2 = nltk.Model(entities, val2)\n",
        "\n",
        "# Sentences from question 3\n",
        "for text, semrep in sentences1.items():\n",
        "    print(text)\n",
        "    print(m2.evaluate(str(semrep), g2))\n",
        "    display_latex(semrep)\n",
        "    display(Markdown('----'))\n",
        "\n",
        "print ()\n",
        "print(\"Sentences from question 4\")\n",
        "print()\n",
        "# Sentences from question 4\n",
        "for text, semrep in sentences2.items():\n",
        "    print(text)\n",
        "    print(m2.evaluate(str(semrep), g2))\n",
        "    display_latex(semrep)\n",
        "    display(Markdown('----'))\n"
      ]
    },
    {
      "cell_type": "markdown",
      "metadata": {
        "id": "erHReI59MAMt"
      },
      "source": [
        "## Comments on the answers:\n",
        "\n",
        "As previously mentioned, the translation of the sentence *\"Nobody admires everybody\"* depends on the domain of discourse. Now that we have a domain specified in the valuation, we can see that the more abstract version,  including all entities — evaluates to *False*, while the more restricted version  evaluates to *True*.\n",
        "\n",
        "In regards to the sentence *Exactly one musician plays everything Alex wrote* we can observe that altough difference translation were given, all evaluate to *True* as  as they are semantically equivalent within the model.\n",
        "\n",
        "\n"
      ]
    },
    {
      "cell_type": "markdown",
      "metadata": {
        "id": "ZaXiJaDZMAMu"
      },
      "source": [
        "## Lambda calculus"
      ]
    },
    {
      "cell_type": "code",
      "execution_count": 22,
      "metadata": {
        "id": "obceON4JMAMu"
      },
      "outputs": [],
      "source": [
        "from nltk.grammar import FeatureGrammar"
      ]
    },
    {
      "cell_type": "markdown",
      "metadata": {
        "id": "eNEF5J49MAMv"
      },
      "source": [
        "### 6. Function application and $\\beta$-reduction\n",
        "In the following examples some code has been deleted and replaced with `<????>`. What has been deleted? Verify that your answer is correct. **[4 marks]**"
      ]
    },
    {
      "cell_type": "code",
      "execution_count": 23,
      "metadata": {
        "id": "5SKrN9uxMAMw",
        "colab": {
          "base_uri": "https://localhost:8080/",
          "height": 242
        },
        "outputId": "9d5433e7-a965-4038-decf-4e4754e94622"
      },
      "outputs": [
        {
          "output_type": "display_data",
          "data": {
            "text/plain": [
              "<IPython.core.display.Markdown object>"
            ],
            "text/markdown": "$like(pip,rob)$"
          },
          "metadata": {}
        },
        {
          "output_type": "display_data",
          "data": {
            "text/plain": [
              "<IPython.core.display.Markdown object>"
            ],
            "text/markdown": "$like(pip,rob)$"
          },
          "metadata": {}
        },
        {
          "output_type": "display_data",
          "data": {
            "text/plain": [
              "<IPython.core.display.Markdown object>"
            ],
            "text/markdown": "$play(pip,scherzo)$"
          },
          "metadata": {}
        },
        {
          "output_type": "display_data",
          "data": {
            "text/plain": [
              "<IPython.core.display.Markdown object>"
            ],
            "text/markdown": "$play(pip,scherzo)$"
          },
          "metadata": {}
        },
        {
          "output_type": "display_data",
          "data": {
            "text/plain": [
              "<IPython.core.display.Markdown object>"
            ],
            "text/markdown": "$\\exists\\ x.(woman(x)\\ \\land\\ play(x,etude))$"
          },
          "metadata": {}
        },
        {
          "output_type": "display_data",
          "data": {
            "text/plain": [
              "<IPython.core.display.Markdown object>"
            ],
            "text/markdown": "$\\exists\\ x.(woman(x)\\ \\land\\ play(x,etude))$"
          },
          "metadata": {}
        },
        {
          "output_type": "display_data",
          "data": {
            "text/plain": [
              "<IPython.core.display.Markdown object>"
            ],
            "text/markdown": "$\\lambda\\ x.\\forall\\ z_{2}.(musician(z_{2})\\ \\rightarrow\\ like(x,z_{2}))$"
          },
          "metadata": {}
        },
        {
          "output_type": "display_data",
          "data": {
            "text/plain": [
              "<IPython.core.display.Markdown object>"
            ],
            "text/markdown": "$\\lambda\\ x.\\forall\\ z_{2}.(musician(z_{2})\\ \\rightarrow\\ like(x,z_{2}))$"
          },
          "metadata": {}
        }
      ],
      "source": [
        "e1 = read_expr(r'\\x.like(x, rob)')\n",
        "e2 = read_expr(r'pip')\n",
        "e3 = nltk.sem.ApplicationExpression(e1,e2)\n",
        "display_latex(e3.simplify())\n",
        "# with result like(pip,rob).\n",
        "display_latex(read_expr(r\"like(pip,rob)\"))\n",
        "\n",
        "e1 = read_expr(r'\\P.P(pip)')\n",
        "e2 = read_expr(r'\\x.play(x,scherzo)')\n",
        "e3 = nltk.sem.ApplicationExpression(e1,e2)\n",
        "display_latex(e3.simplify())\n",
        "# with result play(pip,scherzo).\n",
        "display_latex(read_expr(r\"play(pip,scherzo)\"))\n",
        "\n",
        "e1 = read_expr(r'\\P.exists x.(woman(x) & P(x))')\n",
        "e2 = read_expr(r'\\x.play(x,etude)')\n",
        "e3 = nltk.sem.ApplicationExpression(e1,e2)\n",
        "display_latex(e3.simplify())\n",
        "# with result exists x.(woman(x) & play(x,etude)).\n",
        "display_latex(read_expr(r\"exists x.(woman(x) & play(x,etude))\"))\n",
        "\n",
        "e1 = read_expr(r'\\P x.P(\\y.like(x,y))')\n",
        "e2 = read_expr(r'\\P.all x. (musician(x) -> P(x))')\n",
        "e3 = nltk.sem.ApplicationExpression(e1,e2)\n",
        "display_latex(e3.simplify())\n",
        "# with result \\x.all z2.(musician(z2) -> like(x,z2)).\n",
        "display_latex(read_expr(r\"\\x.all z2.(musician(z2) -> like(x,z2))\"))"
      ]
    },
    {
      "cell_type": "markdown",
      "metadata": {
        "id": "EhwSzm8XMAMx"
      },
      "source": [
        "### 7. Extending the grammar\n",
        "\n",
        "Extend the grammar simple_sem.fcfg that comes with NLTK `(~/nltk_data/grammars/book_grammars/)` so that it will cover the following sentences:\n",
        "\n",
        "- no man gives a bone to a dog **[4 marks]**\n",
        "- no man gives a bone to the dog **[4 marks]**\n",
        "- a boy and a girl chased every dog **[2 marks]**\n",
        "- every dog chased a boy and a girl **[2 marks]**\n",
        "- a brown cat chases a white dog **[4 marks]**\n",
        "\n",
        "The last example includes adjectives. Several different kinds of adjectives are discussed in the literature [(cf. Kennedy, 2012)](http://semantics.uchicago.edu/kennedy/docs/routledge.pdf). In this example we have an intersective adjective. The denotiation we want for \"brown cat\" is a a set that we get by intersecting the set of individuals that are brown and the set of individuals that are cats.\n",
        "\n",
        "C. Kennedy. Adjectives. In G. Russell, editor, The Routledge Companion to Philosophy of Language, chapter 3.3, pages 328–341. Routledge, 2012.\n",
        "\n",
        "The original grammar is included in the code below as a string."
      ]
    },
    {
      "cell_type": "code",
      "execution_count": 24,
      "metadata": {
        "id": "kxETCPpAMAM1"
      },
      "outputs": [],
      "source": [
        "fcfg_string_orginal = r\"\"\"\n",
        "% start S\n",
        "############################\n",
        "# Grammar Rules\n",
        "#############################\n",
        "\n",
        "S[SEM = <?subj(?vp)>] -> NP[NUM=?n,SEM=?subj] VP[NUM=?n,SEM=?vp]\n",
        "\n",
        "NP[NUM=?n,SEM=<?det(?nom)> ] -> Det[NUM=?n,SEM=?det]  Nom[NUM=?n,SEM=?nom]\n",
        "NP[LOC=?l,NUM=?n,SEM=?np] -> PropN[LOC=?l,NUM=?n,SEM=?np]\n",
        "\n",
        "Nom[NUM=?n,SEM=?nom] -> N[NUM=?n,SEM=?nom]\n",
        "\n",
        "VP[NUM=?n,SEM=?v] -> IV[NUM=?n,SEM=?v]\n",
        "VP[NUM=?n,SEM=<?v(?obj)>] -> TV[NUM=?n,SEM=?v] NP[SEM=?obj]\n",
        "VP[NUM=?n,SEM=<?v(?obj,?pp)>] -> DTV[NUM=?n,SEM=?v] NP[SEM=?obj] PP[+TO,SEM=?pp]\n",
        "\n",
        "PP[+TO, SEM=?np] -> P[+TO] NP[SEM=?np]\n",
        "\n",
        "#############################\n",
        "# Lexical Rules\n",
        "#############################\n",
        "\n",
        "PropN[-LOC,NUM=sg,SEM=<\\P.P(angus)>] -> 'Angus'\n",
        "PropN[-LOC,NUM=sg,SEM=<\\P.P(cyril)>] -> 'Cyril'\n",
        "PropN[-LOC,NUM=sg,SEM=<\\P.P(irene)>] -> 'Irene'\n",
        "\n",
        "Det[NUM=sg,SEM=<\\P Q.all x.(P(x) -> Q(x))>] -> 'every'\n",
        "Det[NUM=pl,SEM=<\\P Q.all x.(P(x) -> Q(x))>] -> 'all'\n",
        "Det[SEM=<\\P Q.exists x.(P(x) & Q(x))>] -> 'some'\n",
        "Det[NUM=sg,SEM=<\\P Q.exists x.(P(x) & Q(x))>] -> 'a'\n",
        "Det[NUM=sg,SEM=<\\P Q.exists x.(P(x) & Q(x))>] -> 'an'\n",
        "\n",
        "N[NUM=sg,SEM=<\\x.man(x)>] -> 'man'\n",
        "N[NUM=sg,SEM=<\\x.girl(x)>] -> 'girl'\n",
        "N[NUM=sg,SEM=<\\x.boy(x)>] -> 'boy'\n",
        "N[NUM=sg,SEM=<\\x.bone(x)>] -> 'bone'\n",
        "N[NUM=sg,SEM=<\\x.ankle(x)>] -> 'ankle'\n",
        "N[NUM=sg,SEM=<\\x.dog(x)>] -> 'dog'\n",
        "N[NUM=pl,SEM=<\\x.dog(x)>] -> 'dogs'\n",
        "\n",
        "IV[NUM=sg,SEM=<\\x.bark(x)>,TNS=pres] -> 'barks'\n",
        "IV[NUM=pl,SEM=<\\x.bark(x)>,TNS=pres] -> 'bark'\n",
        "IV[NUM=sg,SEM=<\\x.walk(x)>,TNS=pres] -> 'walks'\n",
        "IV[NUM=pl,SEM=<\\x.walk(x)>,TNS=pres] -> 'walk'\n",
        "TV[NUM=sg,SEM=<\\X x.X(\\ y.chase(x,y))>,TNS=pres] -> 'chases'\n",
        "TV[NUM=pl,SEM=<\\X x.X(\\ y.chase(x,y))>,TNS=pres] -> 'chase'\n",
        "TV[NUM=sg,SEM=<\\X x.X(\\ y.see(x,y))>,TNS=pres] -> 'sees'\n",
        "TV[NUM=pl,SEM=<\\X x.X(\\ y.see(x,y))>,TNS=pres] -> 'see'\n",
        "TV[NUM=sg,SEM=<\\X x.X(\\ y.bite(x,y))>,TNS=pres] -> 'bites'\n",
        "TV[NUM=pl,SEM=<\\X x.X(\\ y.bite(x,y))>,TNS=pres] -> 'bite'\n",
        "DTV[NUM=sg,SEM=<\\Y X x.X(\\z.Y(\\y.give(x,y,z)))>,TNS=pres] -> 'gives'\n",
        "DTV[NUM=pl,SEM=<\\Y X x.X(\\z.Y(\\y.give(x,y,z)))>,TNS=pres] -> 'give'\n",
        "\n",
        "P[+to] -> 'to'\n",
        "\"\"\""
      ]
    },
    {
      "cell_type": "markdown",
      "metadata": {
        "id": "m9p0UrG9MAM2"
      },
      "source": [
        "Write your extension of this grammar here:"
      ]
    },
    {
      "cell_type": "code",
      "execution_count": 25,
      "metadata": {
        "id": "nqtDDa8NMAM3"
      },
      "outputs": [],
      "source": [
        "\n",
        "nltk.data.clear_cache()\n",
        "\n",
        "fcfg_string = fcfg_string_orginal + r\"\"\"\n",
        "## Your answers here\n",
        "\n",
        "##########################\n",
        "# Grammar Rules\n",
        "##########################\n",
        "\n",
        "NP[NUM=?n, SEM=<\\P. ((?nom1(P) and ?nom2(P)))>] -> NP[NUM=?n, SEM=?nom1] CONJ NP[NUM=?n, SEM=?nom2]\n",
        "NP[NUM=?n, SEM=<?det(?adj(?nom))>] -> Det[NUM=?n,SEM=?det] ADJ[NUM=?n,SEM=?adj] Nom[NUM=?n,SEM=?nom]\n",
        "\n",
        "\n",
        "##########################\n",
        "# Lexical Rules\n",
        "##########################\n",
        "\n",
        "Det[NUM=sg,SEM=<\\P Q.-exists x.(P(x) & Q(x))>] -> 'no'\n",
        "Det[NUM=sg,SEM=<\\P Q.exists x.(P(x) -> Q(x))>] -> 'the'\n",
        "\n",
        "CONJ -> 'and'\n",
        "TV[SEM=<\\X x.X(\\ y.chase(x,y))>,TNS=past] -> 'chased'\n",
        "\n",
        "N[NUM=sg,SEM=<\\x.cat(x)>] -> 'cat'\n",
        "ADJ[NUM=sg,SEM=<\\P x.(P(x) & brown(x))>] -> 'brown'\n",
        "ADJ[NUM=sg,SEM=<\\P x.(P(x) & white(x))>] -> 'white'\n",
        "\n",
        "\n",
        "\n",
        "\"\"\"\n",
        "\n",
        "# Load `fcfg_string` as a feature grammar:\n",
        "syntax = FeatureGrammar.fromstring(fcfg_string)\n",
        "\n"
      ]
    },
    {
      "cell_type": "markdown",
      "metadata": {
        "id": "QeGBtaVvMAM5"
      },
      "source": [
        "Run the code below without errors:"
      ]
    },
    {
      "cell_type": "code",
      "execution_count": 26,
      "metadata": {
        "id": "DPzIeKO3MAM7",
        "colab": {
          "base_uri": "https://localhost:8080/",
          "height": 365
        },
        "outputId": "6c87db37-d525-40de-9824-c6a3ffd6b485"
      },
      "outputs": [
        {
          "output_type": "display_data",
          "data": {
            "text/plain": [
              "<IPython.core.display.Markdown object>"
            ],
            "text/markdown": "----"
          },
          "metadata": {}
        },
        {
          "output_type": "display_data",
          "data": {
            "text/plain": [
              "<IPython.core.display.Markdown object>"
            ],
            "text/markdown": "$-\\exists\\ x.(man(x)\\ \\land\\ \\exists\\ z_{4}.(dog(z_{4})\\ \\land\\ \\exists\\ z_{3}.(bone(z_{3})\\ \\land\\ give(x,z_{3},z_{4}))))$"
          },
          "metadata": {}
        },
        {
          "output_type": "error",
          "ename": "TclError",
          "evalue": "no display name and no $DISPLAY environment variable",
          "traceback": [
            "\u001b[0;31m---------------------------------------------------------------------------\u001b[0m",
            "\u001b[0;31mTclError\u001b[0m                                  Traceback (most recent call last)",
            "\u001b[0;32m<ipython-input-26-28f7eac4506e>\u001b[0m in \u001b[0;36m<cell line: 0>\u001b[0;34m()\u001b[0m\n\u001b[1;32m     11\u001b[0m         \u001b[0mdisplay\u001b[0m\u001b[0;34m(\u001b[0m\u001b[0mMarkdown\u001b[0m\u001b[0;34m(\u001b[0m\u001b[0;34m'----'\u001b[0m\u001b[0;34m)\u001b[0m\u001b[0;34m)\u001b[0m\u001b[0;34m\u001b[0m\u001b[0;34m\u001b[0m\u001b[0m\n\u001b[1;32m     12\u001b[0m         \u001b[0mdisplay_latex\u001b[0m\u001b[0;34m(\u001b[0m\u001b[0msemrep\u001b[0m\u001b[0;34m)\u001b[0m \u001b[0;31m# prints the SEM feature of a tree\u001b[0m\u001b[0;34m\u001b[0m\u001b[0;34m\u001b[0m\u001b[0m\n\u001b[0;32m---> 13\u001b[0;31m         \u001b[0mdisplay_tree\u001b[0m\u001b[0;34m(\u001b[0m\u001b[0msynrep\u001b[0m\u001b[0;34m)\u001b[0m \u001b[0;31m# show the parse tree\u001b[0m\u001b[0;34m\u001b[0m\u001b[0;34m\u001b[0m\u001b[0m\n\u001b[0m",
            "\u001b[0;32m/content/utils.py\u001b[0m in \u001b[0;36mdisplay_tree\u001b[0;34m(tree)\u001b[0m\n\u001b[1;32m     84\u001b[0m \u001b[0;34m\u001b[0m\u001b[0m\n\u001b[1;32m     85\u001b[0m \u001b[0;32mdef\u001b[0m \u001b[0mdisplay_tree\u001b[0m\u001b[0;34m(\u001b[0m\u001b[0mtree\u001b[0m\u001b[0;34m)\u001b[0m\u001b[0;34m:\u001b[0m\u001b[0;34m\u001b[0m\u001b[0;34m\u001b[0m\u001b[0m\n\u001b[0;32m---> 86\u001b[0;31m     \u001b[0;32mreturn\u001b[0m \u001b[0mdisplay\u001b[0m\u001b[0;34m(\u001b[0m\u001b[0mMarkdown\u001b[0m\u001b[0;34m(\u001b[0m\u001b[0;34mf\"<img src=\\\"data:image/png;base64,{_repr_png_(tree)}\\\">\"\u001b[0m\u001b[0;34m)\u001b[0m\u001b[0;34m)\u001b[0m\u001b[0;34m\u001b[0m\u001b[0;34m\u001b[0m\u001b[0m\n\u001b[0m",
            "\u001b[0;32m/content/utils.py\u001b[0m in \u001b[0;36m_repr_png_\u001b[0;34m(tree)\u001b[0m\n\u001b[1;32m     42\u001b[0m     \u001b[0;32mfrom\u001b[0m \u001b[0mnltk\u001b[0m\u001b[0;34m.\u001b[0m\u001b[0minternals\u001b[0m \u001b[0;32mimport\u001b[0m \u001b[0mfind_binary\u001b[0m\u001b[0;34m\u001b[0m\u001b[0;34m\u001b[0m\u001b[0m\n\u001b[1;32m     43\u001b[0m \u001b[0;34m\u001b[0m\u001b[0m\n\u001b[0;32m---> 44\u001b[0;31m     \u001b[0m_canvas_frame\u001b[0m \u001b[0;34m=\u001b[0m \u001b[0mCanvasFrame\u001b[0m\u001b[0;34m(\u001b[0m\u001b[0;34m)\u001b[0m\u001b[0;34m\u001b[0m\u001b[0;34m\u001b[0m\u001b[0m\n\u001b[0m\u001b[1;32m     45\u001b[0m     \u001b[0mwidget\u001b[0m \u001b[0;34m=\u001b[0m \u001b[0mtree_to_treesegment\u001b[0m\u001b[0;34m(\u001b[0m\u001b[0m_canvas_frame\u001b[0m\u001b[0;34m.\u001b[0m\u001b[0mcanvas\u001b[0m\u001b[0;34m(\u001b[0m\u001b[0;34m)\u001b[0m\u001b[0;34m,\u001b[0m \u001b[0mtree\u001b[0m\u001b[0;34m,\u001b[0m \u001b[0mnode_color\u001b[0m\u001b[0;34m=\u001b[0m\u001b[0;34m'#005990'\u001b[0m\u001b[0;34m,\u001b[0m \u001b[0mnode_font\u001b[0m\u001b[0;34m=\u001b[0m\u001b[0;34m'arial 13 bold'\u001b[0m\u001b[0;34m)\u001b[0m\u001b[0;34m\u001b[0m\u001b[0;34m\u001b[0m\u001b[0m\n\u001b[1;32m     46\u001b[0m     \u001b[0m_canvas_frame\u001b[0m\u001b[0;34m.\u001b[0m\u001b[0madd_widget\u001b[0m\u001b[0;34m(\u001b[0m\u001b[0mwidget\u001b[0m\u001b[0;34m)\u001b[0m\u001b[0;34m\u001b[0m\u001b[0;34m\u001b[0m\u001b[0m\n",
            "\u001b[0;32m/usr/local/lib/python3.11/dist-packages/nltk/draw/util.py\u001b[0m in \u001b[0;36m__init__\u001b[0;34m(self, parent, **kw)\u001b[0m\n\u001b[1;32m   1792\u001b[0m         \u001b[0;31m# If no parent was given, set up a top-level window.\u001b[0m\u001b[0;34m\u001b[0m\u001b[0;34m\u001b[0m\u001b[0m\n\u001b[1;32m   1793\u001b[0m         \u001b[0;32mif\u001b[0m \u001b[0mparent\u001b[0m \u001b[0;32mis\u001b[0m \u001b[0;32mNone\u001b[0m\u001b[0;34m:\u001b[0m\u001b[0;34m\u001b[0m\u001b[0;34m\u001b[0m\u001b[0m\n\u001b[0;32m-> 1794\u001b[0;31m             \u001b[0mself\u001b[0m\u001b[0;34m.\u001b[0m\u001b[0m_parent\u001b[0m \u001b[0;34m=\u001b[0m \u001b[0mTk\u001b[0m\u001b[0;34m(\u001b[0m\u001b[0;34m)\u001b[0m\u001b[0;34m\u001b[0m\u001b[0;34m\u001b[0m\u001b[0m\n\u001b[0m\u001b[1;32m   1795\u001b[0m             \u001b[0mself\u001b[0m\u001b[0;34m.\u001b[0m\u001b[0m_parent\u001b[0m\u001b[0;34m.\u001b[0m\u001b[0mtitle\u001b[0m\u001b[0;34m(\u001b[0m\u001b[0;34m\"NLTK\"\u001b[0m\u001b[0;34m)\u001b[0m\u001b[0;34m\u001b[0m\u001b[0;34m\u001b[0m\u001b[0m\n\u001b[1;32m   1796\u001b[0m             \u001b[0mself\u001b[0m\u001b[0;34m.\u001b[0m\u001b[0m_parent\u001b[0m\u001b[0;34m.\u001b[0m\u001b[0mbind\u001b[0m\u001b[0;34m(\u001b[0m\u001b[0;34m\"<Control-p>\"\u001b[0m\u001b[0;34m,\u001b[0m \u001b[0;32mlambda\u001b[0m \u001b[0me\u001b[0m\u001b[0;34m:\u001b[0m \u001b[0mself\u001b[0m\u001b[0;34m.\u001b[0m\u001b[0mprint_to_file\u001b[0m\u001b[0;34m(\u001b[0m\u001b[0;34m)\u001b[0m\u001b[0;34m)\u001b[0m\u001b[0;34m\u001b[0m\u001b[0;34m\u001b[0m\u001b[0m\n",
            "\u001b[0;32m/usr/lib/python3.11/tkinter/__init__.py\u001b[0m in \u001b[0;36m__init__\u001b[0;34m(self, screenName, baseName, className, useTk, sync, use)\u001b[0m\n\u001b[1;32m   2324\u001b[0m                 \u001b[0mbaseName\u001b[0m \u001b[0;34m=\u001b[0m \u001b[0mbaseName\u001b[0m \u001b[0;34m+\u001b[0m \u001b[0mext\u001b[0m\u001b[0;34m\u001b[0m\u001b[0;34m\u001b[0m\u001b[0m\n\u001b[1;32m   2325\u001b[0m         \u001b[0minteractive\u001b[0m \u001b[0;34m=\u001b[0m \u001b[0;32mFalse\u001b[0m\u001b[0;34m\u001b[0m\u001b[0;34m\u001b[0m\u001b[0m\n\u001b[0;32m-> 2326\u001b[0;31m         \u001b[0mself\u001b[0m\u001b[0;34m.\u001b[0m\u001b[0mtk\u001b[0m \u001b[0;34m=\u001b[0m \u001b[0m_tkinter\u001b[0m\u001b[0;34m.\u001b[0m\u001b[0mcreate\u001b[0m\u001b[0;34m(\u001b[0m\u001b[0mscreenName\u001b[0m\u001b[0;34m,\u001b[0m \u001b[0mbaseName\u001b[0m\u001b[0;34m,\u001b[0m \u001b[0mclassName\u001b[0m\u001b[0;34m,\u001b[0m \u001b[0minteractive\u001b[0m\u001b[0;34m,\u001b[0m \u001b[0mwantobjects\u001b[0m\u001b[0;34m,\u001b[0m \u001b[0museTk\u001b[0m\u001b[0;34m,\u001b[0m \u001b[0msync\u001b[0m\u001b[0;34m,\u001b[0m \u001b[0muse\u001b[0m\u001b[0;34m)\u001b[0m\u001b[0;34m\u001b[0m\u001b[0;34m\u001b[0m\u001b[0m\n\u001b[0m\u001b[1;32m   2327\u001b[0m         \u001b[0;32mif\u001b[0m \u001b[0museTk\u001b[0m\u001b[0;34m:\u001b[0m\u001b[0;34m\u001b[0m\u001b[0;34m\u001b[0m\u001b[0m\n\u001b[1;32m   2328\u001b[0m             \u001b[0mself\u001b[0m\u001b[0;34m.\u001b[0m\u001b[0m_loadtk\u001b[0m\u001b[0;34m(\u001b[0m\u001b[0;34m)\u001b[0m\u001b[0;34m\u001b[0m\u001b[0;34m\u001b[0m\u001b[0m\n",
            "\u001b[0;31mTclError\u001b[0m: no display name and no $DISPLAY environment variable"
          ]
        }
      ],
      "source": [
        "# comment out sentences if you couldn't find an answer for them\n",
        "sentences = [\n",
        "    'no man gives a bone to a dog',\n",
        "    'no man gives a bone to the dog',\n",
        "    'a boy and a girl chased every dog',\n",
        "    'every dog chased a boy and a girl',\n",
        "    'a brown cat chases a white dog',\n",
        "]\n",
        "for results in nltk.interpret_sents(sentences, syntax):\n",
        "    for (synrep, semrep) in results:\n",
        "        display(Markdown('----'))\n",
        "        display_latex(semrep) # prints the SEM feature of a tree\n",
        "        display_tree(synrep) # show the parse tree"
      ]
    },
    {
      "cell_type": "markdown",
      "metadata": {
        "id": "hCBPc1EhMAM8"
      },
      "source": [
        "If you are working with iPython which is also running behind Jupyter notebooks and you are changing grammars and want to rerun a new version without restarting you may find `nltk.data.clear_cache()` useful."
      ]
    },
    {
      "cell_type": "markdown",
      "metadata": {
        "id": "phDXuAyCMAM8"
      },
      "source": [
        "## Statement of contribution\n",
        "\n",
        "\n",
        "\n",
        "The work for this assignment was completed following a group meeting in which all members were present. Prior to the meeting, the group communicated and agreed that the best approach would be for each of us to attempt the exercises individually, and then meet later to discuss answers, share thoughts, and clarify any doubts or issues that arose.\n",
        "\n",
        "Most of the exercises were solved in a similar way by all team members, with minor differences in the translations of ambiguous sentences. In such cases, we provided the different logical interpretations.\n",
        "\n",
        "The answers in this draft represent a collaborative effort, where we compared our versions and included all alternatives when ambiguity led to differing interpretations.\n"
      ]
    },
    {
      "cell_type": "markdown",
      "metadata": {
        "id": "0wp5iEbPMAM9"
      },
      "source": [
        "## Marks\n",
        "\n",
        "The assignment is marked on a 7-level scale where 4 is sufficient to complete the assignment; 5 is good solid work; 6 is excellent work, covers most of the assignment; and 7: creative work.\n",
        "\n",
        "This assignment has a total of 47 marks. These translate to grades as follows: 1 = 17% 2 = 34%, 3 = 50%, 4 = 67%, 5 = 75%, 6 = 84%, 7 = 92% where %s are interpreted as lower bounds to achieve that grade."
      ]
    }
  ],
  "metadata": {
    "kernelspec": {
      "display_name": "Python 3",
      "name": "python3"
    },
    "language_info": {
      "codemirror_mode": {
        "name": "ipython",
        "version": 3
      },
      "file_extension": ".py",
      "mimetype": "text/x-python",
      "name": "python",
      "nbconvert_exporter": "python",
      "pygments_lexer": "ipython3",
      "version": "3.12.9"
    },
    "colab": {
      "provenance": []
    }
  },
  "nbformat": 4,
  "nbformat_minor": 0
}